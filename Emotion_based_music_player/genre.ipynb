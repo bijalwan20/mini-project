{
 "cells": [
  {
   "cell_type": "code",
   "execution_count": null,
   "metadata": {},
   "outputs": [],
   "source": [
    "import spotipy\n",
    "from spotipy.oauth2 import SpotifyClientCredentials #To access authorised Spotify data\n",
    "client_id = 'client_id'\n",
    "client_secret = 'secret_id'\n",
    "client_credentials_manager = SpotifyClientCredentials(client_id=client_id, client_secret=client_secret)\n",
    "sp = spotipy.Spotify(client_credentials_manager=client_credentials_manager) #spotify object to access API\n",
    "\n",
    "\n",
    "Genre_dict = {\"id\":[], \"genre\":[] , \"song_name\":[], \"artist_name\":[],\"audio\":[], \"img\":[]}"
   ]
  },
  {
   "cell_type": "code",
   "execution_count": null,
   "metadata": {},
   "outputs": [],
   "source": [
    "def AddPlaylist(playlist,genre):\n",
    "    result=sp.playlist_tracks(playlist)\n",
    "#     print(result)\n",
    "    for i in result['items']:\n",
    "        Genre_dict[\"genre\"].append(genre);\n",
    "        Genre_dict[\"id\"].append(i['track']['id'])\n",
    "        Genre_dict[\"artist_name\"].append(i['track']['artists'][0]['name'])\n",
    "        Genre_dict[\"song_name\"].append(i['track']['name'])\n",
    "        Genre_dict[\"audio\"].append(i['track']['preview_url'])\n",
    "        Genre_dict[\"img\"].append(i['track']['album']['images'][0]['url'])"
   ]
  },
  {
   "cell_type": "code",
   "execution_count": null,
   "metadata": {},
   "outputs": [],
   "source": [
    "genre=\"BollyWood\"\n",
    "AddPlaylist('https://open.spotify.com/playlist/37i9dQZF1DX0XUfTFmNBRM?si=3ca8489b6346410c',genre)\n",
    "AddPlaylist('https://open.spotify.com/playlist/37i9dQZF1DXdpQPPZq3F7n?si=0038cb2ae5e34c0c',genre)"
   ]
  },
  {
   "cell_type": "code",
   "execution_count": null,
   "metadata": {},
   "outputs": [],
   "source": [
    "genre=\"Pop\"\n",
    "AddPlaylist('https://open.spotify.com/playlist/37i9dQZF1DXcBWIGoYBM5M?si=683ff89ad1fc4797',genre)\n",
    "AddPlaylist('https://open.spotify.com/playlist/37i9dQZF1DXbVhgADFy3im?si=43e2e3ad4a724a37',genre)"
   ]
  },
  {
   "cell_type": "code",
   "execution_count": null,
   "metadata": {},
   "outputs": [],
   "source": [
    "genre=\"Hip-Hop\"\n",
    "AddPlaylist('https://open.spotify.com/playlist/37i9dQZF1DWTqYqGLu7kTX?si=47b025e19cbe4bd7',genre)\n",
    "AddPlaylist('https://open.spotify.com/playlist/37i9dQZF1DXbSaMQIHweTw?si=a3e5cbcfa16649c4',genre)"
   ]
  },
  {
   "cell_type": "code",
   "execution_count": null,
   "metadata": {},
   "outputs": [],
   "source": [
    "genre=\"Indie\"\n",
    "AddPlaylist('https://open.spotify.com/playlist/37i9dQZF1DX5q67ZpWyRrZ?si=3a9c009c74a44503',genre)\n",
    "AddPlaylist('https://open.spotify.com/playlist/37i9dQZF1DWWhejoFhUUFy?si=023221f26cd74709',genre)"
   ]
  },
  {
   "cell_type": "code",
   "execution_count": null,
   "metadata": {},
   "outputs": [],
   "source": [
    "genre=\"Punjabi\"\n",
    "AddPlaylist('https://open.spotify.com/playlist/37i9dQZF1DX5cZuAHLNjGz?si=309d5744cb2545f8',genre)\n",
    "AddPlaylist('https://open.spotify.com/playlist/37i9dQZF1DWXVJK4aT7pmk?si=013f2f5e7cdc4ab7',genre)"
   ]
  },
  {
   "cell_type": "code",
   "execution_count": null,
   "metadata": {},
   "outputs": [],
   "source": [
    "genre=\"Devotional\"\n",
    "AddPlaylist('https://open.spotify.com/playlist/37i9dQZF1DWUAOn5dYbrDa?si=4f3cf16acadd44cd',genre)\n",
    "AddPlaylist('https://open.spotify.com/playlist/37i9dQZF1DWTT2uaNCuEwQ?si=9a04465d4dc9481f',genre)"
   ]
  },
  {
   "cell_type": "code",
   "execution_count": null,
   "metadata": {},
   "outputs": [],
   "source": [
    "genre=\"Indian Classical\"\n",
    "AddPlaylist('https://open.spotify.com/playlist/37i9dQZF1DX6EUcyVKIE73?si=cbff3d09e4734ecb',genre)\n",
    "AddPlaylist('https://open.spotify.com/playlist/37i9dQZF1DX6QsiGlwQqfw?si=71a8d1e8b1ef4610',genre)"
   ]
  },
  {
   "cell_type": "code",
   "execution_count": null,
   "metadata": {},
   "outputs": [],
   "source": [
    "genre=\"Romance\"\n",
    "AddPlaylist('https://open.spotify.com/playlist/37i9dQZF1DWSoLBQNkZBKc?si=b9a5caf7e3f2459e',genre)\n",
    "AddPlaylist('https://open.spotify.com/playlist/37i9dQZF1DWX83CujKHHOn?si=9bc27b7b7f0e474f',genre)\n",
    "AddPlaylist('https://open.spotify.com/playlist/37i9dQZF1DX3NU3NvyoJUz?si=4ec63e6a653046f9',genre)"
   ]
  },
  {
   "cell_type": "code",
   "execution_count": null,
   "metadata": {},
   "outputs": [],
   "source": [
    "genre=\"Dance\"\n",
    "AddPlaylist('https://open.spotify.com/playlist/37i9dQZF1DXaXB8fQg7xif?si=4e617b3f3a854873',genre)\n",
    "AddPlaylist('https://open.spotify.com/playlist/37i9dQZF1DX4dyzvuaRJ0n?si=78b19233a8d94e6c',genre)"
   ]
  },
  {
   "cell_type": "code",
   "execution_count": null,
   "metadata": {},
   "outputs": [],
   "source": [
    "genre=\"Instrumental\"\n",
    "AddPlaylist('https://open.spotify.com/playlist/37i9dQZF1DWZd79rJ6a7lp?si=f5508301726b4022',genre)\n",
    "AddPlaylist('https://open.spotify.com/playlist/37i9dQZF1DX4sWSpwq3LiO?si=f01ee17dd42a4bf9',genre)"
   ]
  },
  {
   "cell_type": "code",
   "execution_count": null,
   "metadata": {},
   "outputs": [],
   "source": [
    "genre=\"Chill\"\n",
    "AddPlaylist('https://open.spotify.com/playlist/37i9dQZF1DX4WYpdgoIcn6?si=33d4a3c23d464633',genre)\n",
    "AddPlaylist('https://open.spotify.com/playlist/37i9dQZF1DX319l60u7Jxg?si=ee9809a2ba974b90',genre)"
   ]
  },
  {
   "cell_type": "code",
   "execution_count": null,
   "metadata": {},
   "outputs": [],
   "source": [
    "genre=\"Mood\"\n",
    "AddPlaylist('https://open.spotify.com/playlist/37i9dQZF1DX3rxVfibe1L0?si=523dca64f8104815',genre)\n",
    "AddPlaylist('https://open.spotify.com/playlist/37i9dQZF1DX9XIFQuFvzM4?si=9e3ece93ab1e4199',genre)"
   ]
  },
  {
   "cell_type": "code",
   "execution_count": null,
   "metadata": {},
   "outputs": [],
   "source": [
    "genre=\"Workout\"\n",
    "AddPlaylist('https://open.spotify.com/playlist/37i9dQZF1DX3wwp27Epwn5?si=056ee920ab4346bb',genre)\n",
    "AddPlaylist('https://open.spotify.com/playlist/37i9dQZF1DXd9Uz5V4eZsn?si=02c70b6a40e447ef',genre)"
   ]
  },
  {
   "cell_type": "code",
   "execution_count": null,
   "metadata": {},
   "outputs": [],
   "source": [
    "genre=\"Sleep\"\n",
    "AddPlaylist('https://open.spotify.com/playlist/37i9dQZF1DWZd79rJ6a7lp?si=86c25db2eb5641ef',genre)\n",
    "AddPlaylist('https://open.spotify.com/playlist/37i9dQZF1DWYcDQ1hSjOpY?si=ff6673b309d4445a',genre)"
   ]
  }
 ],
 "metadata": {
  "kernelspec": {
   "display_name": "Python 3.9.12 ('base')",
   "language": "python",
   "name": "python3"
  },
  "language_info": {
   "name": "python",
   "version": "3.9.12"
  },
  "orig_nbformat": 4,
  "vscode": {
   "interpreter": {
    "hash": "5244ec39a2d08d25730e72f0e2eda62b7b2f44ed6c813c60548b9d8b880708c7"
   }
  }
 },
 "nbformat": 4,
 "nbformat_minor": 2
}
